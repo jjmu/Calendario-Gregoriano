{
  "nbformat": 4,
  "nbformat_minor": 0,
  "metadata": {
    "colab": {
      "name": "Segunda Entrega",
      "provenance": [],
      "collapsed_sections": [],
      "include_colab_link": true
    },
    "kernelspec": {
      "name": "python3",
      "display_name": "Python 3"
    }
  },
  "cells": [
    {
      "cell_type": "markdown",
      "metadata": {
        "id": "view-in-github",
        "colab_type": "text"
      },
      "source": [
        "<a href=\"https://colab.research.google.com/github/jjmu/Calendario-Gregoriano/blob/main/Segunda_Entrega.ipynb\" target=\"_parent\"><img src=\"https://colab.research.google.com/assets/colab-badge.svg\" alt=\"Open In Colab\"/></a>"
      ]
    },
    {
      "cell_type": "markdown",
      "metadata": {
        "id": "4ynDb5A6kpp0"
      },
      "source": [
        "Diego Humberto Lavado González \\\\\n",
        "Julio Javier Muñoz Quiñones\n",
        "\n",
        "\n",
        "**Calendario Gregoriano**\n",
        "\n",
        "**Introducción**\n",
        "\n",
        "El calendario Juliano fue introducido por Julio Cesar en el año 46 a.C. (De ahí su nombre) el cual entró en vigor un año después. Cada año empezaba en Marzo y terminaba en Febrero, con una duración de 365 días divididos en 12 meses, con un bisiesto cada cuatro años, cuyo dia recaía en Febrero para compensar la duración promedio de 365,25 días del año Trópico. Sin embargo desde mucho antes de la reforma Juliana ya sé sabía (al menos en Grecia) que la duración promedio del año trópico,  era exactamente 365,242189 días (lo que son 365 días, 5 horas, 48 minutos, y 45,16 segundos) lo cual hacía que se perdieran 3 días cada cuatro siglos. En el año 1582, el papa Gregorio XIII hace una reforma del calendario Juliano, y para compensar los 11 minutos perdidos cada año en el periodo entre 325 y 1582 (1257 años transcurridos), el jueves “Juliano” 4 de Octubre de 1582 le sucedió el viernes “Gregoriano” 15 de octubre de 1582, así diez días desaparecieron, que por el calendario Juliano, se habían contado de más. Así nace el calendario Gregoriano.\n",
        "\n",
        "En lugar del año bisiesto de cada cuatro años del calendario Juliano, el Gregoriano establece que serán bisiestos aquellos años que sean divisibles por 4, exceptuando los múltiplos de 100, de los que a su vez, se excluyen aquellos que sean divisibles por 400. \n",
        "\n",
        "Resumiendo lo anterior se tiene: \n",
        "\n",
        "* Divisibles por $4$ y $400 \\hspace{1mm} ($Años:$ \\hspace{1mm} 4,16,20,24,...,400,1600,2020,2400)$  **son bisiestos**. \\\\\n",
        "* Múltiplos de $100 \\hspace{1mm} ($Años:$\\hspace{1mm} 1700, 1800, 1900$,etc)  **NO son bisiestos**. \\\\\n",
        "* Años que no caen dentro de las dos primeras clasificaciones, **NO son bisiestos**.\n",
        "\n",
        "\n",
        "\n",
        "    \n",
        "**Materiales y métodos**\n",
        "\n",
        "Definimos como $n$ al dia primero de marzo del año $0000$, así, al dia del primero de marzo del año $y$ le damos el valor $n'$, eso nos define la función: \\\\\n",
        "\n",
        "$$n' =(n+y+L)(mod \\hspace{2mm} 7)$$\n",
        "\n",
        "Donde $mod \\hspace{2mm} 7$ nos dará el dia de la semana en que comenzó cualquier siglo y $L$ corresponte al valor asignado de los años bisiestos, desde el año $0000$ hasta el año $y$. Las fracciones se adhieren a los criterios en los cuales un año es bisiesto, que se mencionaron anteriormente. Tomando la parte entera de cada uno de los resultados de las fracciones. \n",
        "$L$ queda de la forma:\n",
        "\n",
        "$$L= \\lfloor \\frac{y}{4}\\rfloor-\\lfloor \\frac{y}{100}\\rfloor+\\lfloor \\frac{y}{400}\\rfloor $$\n",
        "\n",
        "Por lo tanto, la ecuación principal se convierte en:\n",
        "  \n",
        "$$n'=(n+y+\\lfloor \\frac{y}{4}\\rfloor-\\lfloor \\frac{y}{100}\\rfloor+\\lfloor\\frac{y}{400}\\rfloor)(mod \\hspace{2mm} 7)$$\n",
        "\n",
        "*Algoritmos* \\\\\n",
        "De esta conclusión se deriva la *Congruencia de Zelller* para el Calendario Gregoriano, la cual esta definida de la siguiente manera:\n",
        "\n",
        "$$h=(q+\\lfloor \\frac{(m+1)\\cdot 26}{10}\\rfloor +K+\\lfloor \\frac{K}{4}\\rfloor+\\lfloor \\frac{J}{4}\\rfloor - 2J) \\hspace{2mm} mod \\hspace{2mm} 7$$\n",
        "\n",
        "Donde: \\\\\n",
        "$h$: Es el dia a averiguar, y sus valores estan definidos por: \\\\\n",
        "![h.PNG](data:image/png;base64,iVBORw0KGgoAAAANSUhEUgAAAM0AAACZCAYAAACMo76IAAAAAXNSR0IArs4c6QAAAARnQU1BAACxjwv8YQUAAAAJcEhZcwAADsMAAA7DAcdvqGQAAA10SURBVHhe7Z09st3EFoU9FYqZOGEeZIzAIbHHQEwxAiJCR1TZAyBwREiREJHdp+8+1q3l7T4/fc+RTqu1VtWqI/WfpN37U8tcSnrzFEVRl56h+fnnn+M4PuGqQBPHF1wVaOL4gqsCTRxfcFWgieMLrtocmn/++efpzz//bNbFr/dvv/32PKH8turv7T/++OPp33//bdZV98z5X3/99Wzt0w95m61dFWhWslSTGH38+PGLsnt4RmiI07XHWNNVgWYlIyac663lgea060ozgqseBg0Bl7aa6C2NSCzkkNR9EsTldcRIYyAlKTGUFDtB02qPiTnHUl/aqdx1bi5cmkPV6fiSQ3IOGq5XYjyHpoLpbZHHak1XPQQapMnRRNZ2ezdiUrk+n3iVs13rlPCKDXVI9dpXwnvslLQeS9orAQWH+mIdz/f9fNyMq7Ew8rbIx0a6Tvqeggapn6DQcfx8uD4/XoV2TVc9/PGMQG118VsaKWmQEgN5ubZlYqG2vo1JJk9cj52gEXDYk46YO1C4lcyontOlsX1b9nM9Bc2lfq16mXNErbp7u2oIaLY+hy2MlHxMPqrlyBMRe3xIGPqqzhMKe+xaiU29ku4UNC3p/GSN7WWe0Lq+qmugqed0DhrGqFLdmq4KNCsZefIx+Zp0lfu2txMovo17ofGkOwVNK5mrL41dk7v6HDS13ylo2EZqt2XeVAWalYwcCF0nUjnJ4UlTE4M6yrR/DTQOBv0V6xY09XjnzFg6to7l5478XN2noNE46qfzOQWNH482SPtruirQrGTk0GBNtN+xiYfL25Mknoj0V0LhFjRKPOSQtKBReVVtgzW+xLE9iWs90rmfggbX86VdCxrssToUNHG8N1cFmji+4KpAE8cXXBVo4viCqwJNHF9w1TM0v//++9Pff/99CB/pWuPbTb5UBZo4PuNAszjQxD0ONIsDTdzjQLP4SNf6008/Pb158+Zl/9dff/1i/xZ/+vTpeSx+W/WzeBho3r59+xxwecvAzwKNgDgVwxYggabfQ0AjYBTsb7755m4TeY1ngEbJrxjy+/3333/VrjrQ9Pvh0CjQgKMyJpsy7pzedi3PAE197Kr+8ccfn+tllQsaX6V8LrA/BZyr0zEcGq+vdXv1w6HRpPldUcHn19uu5RmgwUrMWg4QHl8SWfut+HvsKfebF3Xapw1PBaoTIAKDfax6zav29+pAs3gWaLDf2Vv1mLgqmVuPZ15fTbnmBWAcKD018OvbqseUcUwv25sDzeKZoJGJJzHUvsOEz0EDCA6N98MOjQPQgkZ1cgVtj344NAquT5Kg2eqONCM0nsAAVON7DhqvJ8n95kW5Q5OV5v/aFBpM8D3A7OPabi3PAE39t4duPKrzlZzYVmi8nn2N5WAIBEFDH58ntn0eOYaOg+m35byu5SGgwQTb3WqzlmeABp+LoZeT7A4NiSzIVK9+gsrrBA0WKFhtfXXx+hmAwcNA80gf6Vrj2x1oFgeauMeBZnGgiXt8Fpo4jtuueoHmKDrStUa3K9AsCjRRjwLNokAT9SjQLAo0UY8CzaJAE/VoKGi+/fbb578c//LLL/+VbKM9QqO/srs/f/78X+399d133z07GgSaDx8+fDH5geayiBNxk4jZI2J3RA0BzQ8//PDiQHOdKjRI4EisPOzLvlLQln3FHFPmNzDqJM0Pog1PBe/fv2+2RSp3S35MXK9jdA0BjaRgBprLaiWbIKFc2x5LEl3JLcBIfN+nDfKxEP3UlzLqtF/bCkaktrRBlOsYSMdV/R4UaBbNAg1SOTDUf4MQVyWsbyMlvicv/TUXzE0FweVtGdfn0M+1dd61/egKNItmgcbv+ECjJJc82YnxNdBoJboGGrVlu7bVuPUYyPvuQYFm0SzQEDcl871WmtdCQ73s88l+Pe+sNDco0FyvmnxKZMVOEHgsSU4lNuVrQVPHcTGGH5fzqGONriGgESzV9Y60lvYKTXVNVCW3rKRGa0IjENw+l3Ul2puGgObROtK1rq0WfBXQvSvQLAo091NrFWIFYnWZRYFmUaC5r4DEH79mWmVQoFkUaKIenYUmjuO2q16gab1UYEYf6Vrj2x1oFgeauMeBZnGgiXscaBYHmrjHgWZxoIl7PAw0/qJs3GqzlmeFRi8kb9XFr/cQ0DCxetO83l7vn2hY24Em7vEQ0Lg10Vt+luFo0LTKuUnpExr86nMctMP162X+ZOA3OH3D5lS/GTwcNAS5TsTaDjRfQ+MJrznxtv4NG+/r27N6OGh0B2NiW/VrONB8DQ37Xk97VhGtJP7hJqDSkwH9at/ZPBQ0BJsJ2XpJDzTXQUO/+vgl++O05nHLR+wtPQw0CvQjlvajQaPE97JeaHylOWXG8Me4WTwENASWidh6hZGPBg32eOvfLNdAw/a1MNAm0KzgU8s91iSt7dmhcQsGgaIykvtaaLD/1zMsOLwsj2cT+0jXGt/uQLM40MQ9DjSLA03c47PQxHHcdtULNEfRka41ul2BZlGgiXoUaBYFmqhHgWZRoIl6FGgWBZqoR8NA439J3vqNjLNA4y88b0nvWT5Vf41mey/zazQENEyCXpitV5rqDfVbaDZo/A3+LmKqN/b7C8p7FGgGgcalzzRs+cLs2aA5ldjUqY1Dw77ssDEHmg/87t27L9r6MdhWeZ0779OCeW8aDhrdCZmsrTQbNIhf9iWSldjqEU3Q+CpfgdJcOGAtIGnnTwbsCw7/rs0sGgIaTZa89d1oRmgEiUSiU1+hqaJOsHnySxWa1njeBmAqZHvXENC4HKCtNCM0nsyexDXJPd7ya6Cp9jaAo/IZNBw0iIATYE3s2poRGqTHJk9+h0bbggT5/mtXmlPSuexdD4eGYPskaOK9bG3NCg0Jzr6XeZLXhFf7c9DUYyDBeUmMFWjuJE2EvCUwaFZoELH0hK6gkMiKOwlN+3PQINqovaQyWces5TNoCGgerSNda3S7As2iQBP1KNAsCjRRjwLNokAT9egsNHEct131Ak3rpQIz+kjXGt/uQLM40MQ9DjSLA03c40CzONDEPQ40i48Ijd7lfM3b/3vd82WBPXooaHjxtv53C72MewvvBRp/oXmr3l8mrzJeQl7f3K92XnZPB5oNTaB5Wz2/geZrCxpi1IoPcCh+j0zYQLORmXDuilptAs3XFjQ8WrU+Y0Gd2ihhK2CKr6x2SnQ9tulTGyqXz31uQ+Xqo7FrW40tqxxvOe+v9RDQ+IQFmtMWEGzz6wlMvEjGmrAOjYBQH4dP/VoJTTu1UT39/LFPNz21q+fgbf2cKPe6PXgIaAiiAh5oTtuhESSqI37UtxJWsfRtmbatftihcvt5yN7/1Lba+rgO2178cGg0AbqbBZrT9mT1ZGytGErSCg111eegcTBl2rcSvTWWtqu9P+Co3Mcb1Q+HRpC0vNWyvUdoMAlNjByMmvwVmlM3o9oPr7XSnLKupVU3kh8OTbUgOjW5a3iv0JDU7HtZTVIHRe3V1t1KbpXRT/tKamDym5onfB2L8mtugJxnoHmFA81pt+7wNXlbCeuxVHzdrX6yjil7vZd7srfG4jy9vc65lqv9yB4Omkf4SNca3+5AszjQxD0ONIsDTdzjs9DEcdx21Qs0R9GRrjW6XYFmUaCJehRoFgWaqEeBZlGgiXoUaBYFmqhHQ0DDy7L9r8L4mrfQ30szQjPLG/pH1BDQMLmA8igFmqhHgWbR7NDUz2sgVnJfzf1bNvjc5zb4fAbtEXXez4+hecUzARxoFh0dGn3XRvX+nRvGARLJ6wSaxL7a+vZsGgoat+50W+jo0Pi2pNVEfTUf3pbx6yqktgLKjzmLhoDGpTsZ3kqB5uv/EINJfORwUC6AWjc7rxc4XjaDhoMGcZcj0FvdpWaHBtV4Vmi03ZIetUh8f+RqrTQtCZ5ZNAQ0PrlaabZ8Hp4RGiDwuBJPJbhiLFC0f+4mpTlxSK6FQePPoiGgUVDlLYFBM0EDCIojcZU8xkp+X138UUquK1MtQ4xT+yE/D+znsncNAc2jdaRrjW5XoFkUaKIeBZpFgSbqUaBZFGiiHp2FJo7jtqteoGm9VGBGH+la49sdaBYHmrjHgWZxoIl7HGgWB5q4x4FmcaCJezwMNPVF261PPKzlvUOjF44Tw1rHi8ax4ttqE/d5CGj0CYgtvxTg3js0uH4dQA4o9/cQ0DDhW64s1TNA0/oAk5dd+vyFfyoD+FidKKOOcTD7lKtPhVTtcT0Xlbf67c1DQKMgPyqwM0CDiZuvKiSx4lihEQCttvzSFlBUz7bPix73NJ4gU3v2Nb5vz+CHQ6PJxCrTHWurx4pZoKnJ6Unt0Pi22vqqBBgOQK2X2dcc1fkSVGxzTrXvnj0MNB7U1p1uTc8CjScqsfPEb0FT/RpoNEet8bDaAk4t26sfDg0mkIHmPlYik/QevxY0/Hpf+bXQXPNkADx17L15CGgIogedyWC/tlvLM0FDwrfiV0Eh5v4o534NNNfC0Bp7bx4CGqyJlltt1vJM0AiOCkRrdakxV5/XQIPp4+NpjEfO7RoeBppH+kjXGt/uQLM40MQ9DjSLA03c47PQxHHcdtUzNFEUXa9AE0WdCjRR1KWnp/8BWHFISyKS8+IAAAAASUVORK5CYII=)\n",
        "\n",
        "$q:$ Es el dia del mes, de la fecha a consultar (1,2,3,...,31) \\\\\n",
        "$m:$ Es el mes, con los siguientes valores: \\\\\n",
        "![m.PNG](data:image/png;base64,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)\n",
        "\n",
        "$K$ es el año de la centuria. Por ejemplo: Si el año es 1988, la centuria sería 88. \\\\\n",
        "$J$ es la centuria. Retomando el ejemplo, la centuria del año 1988, sería 19.\n",
        "\n",
        "Como se mencionó, el año Gregoriano (Así como el Juliano) inicia su mes en marzo, por ende, los meses enero y febrero se cuentan como meses del año anterior. \\\\\n",
        "\n",
        "**Por ejemplo:** Enero 18 del 2020, sería en realidad, el dia 18 del mes 14 del año 2019, segun la *congruencia de Zeller*. \n",
        "\n",
        "**Resultados** \\\\\n",
        "\n",
        "Presentamos la implementación de *Algoritmo de Zeller* en lenguaje de programación Python.\n",
        "\n",
        "En la función *day* ingresamos 3 valores, correspondientes al dia, mes y año respectivamente.\n",
        "\n",
        "**Prueba uno**\n",
        "\n",
        "Ingresamos la fecha 18 de Enero del 2010. \\\\ \n",
        "Si la ingresamos de manera directa, siendo estos valores, 18, 1, 2010 nos arrojará lo siguiente:\n",
        "\n",
        "\n"
      ]
    },
    {
      "cell_type": "code",
      "metadata": {
        "id": "y9HfoRDAoAL9",
        "colab": {
          "base_uri": "https://localhost:8080/"
        },
        "outputId": "aee51890-ac70-4919-860d-4eeb37b58093"
      },
      "source": [
        "from math import floor\n",
        "\n",
        "def day(dd,mm,aaaa):\n",
        "      q=dd\n",
        "      Dict ={0:\"Sábado\", 1:\"Domingo\" , 2:\"Lunes\" , 3:\"Martes\" ,4:\"Miércoles\" ,\n",
        "             5:\"Jueves\", 6:\"Viernes\"}\n",
        "      K = aaaa % 100; \n",
        "      J = floor(aaaa/100)\n",
        "      h = (q+floor((13*(mm+1))/5)+K+floor(K/4)+floor(J/4)-2*J)%7\n",
        "      for key,val in Dict.items():\n",
        "          if key == h:\n",
        "              print(val)\n",
        "\n",
        "day(18,1,2010)"
      ],
      "execution_count": null,
      "outputs": [
        {
          "output_type": "stream",
          "text": [
            "Sábado\n"
          ],
          "name": "stdout"
        }
      ]
    },
    {
      "cell_type": "markdown",
      "metadata": {
        "id": "s_pQf-0DuadR"
      },
      "source": [
        "Naturalmente, Sabado no es el dia correcto que correspone a la fecha solicitada (El dia real es Lunes). Lo cual nos dice que es imperativo ingresar el valor correcto, correspondiente a los parametros establecidos del *Algoritmo de Zeller*.\n",
        "\n",
        "La fecha 18 de Enero del 2010, sería, 18 del mes 13 del año 2009  \n",
        "\n",
        "\n",
        "\n",
        "\n"
      ]
    },
    {
      "cell_type": "code",
      "metadata": {
        "colab": {
          "base_uri": "https://localhost:8080/"
        },
        "id": "Ll0Sw2UyACug",
        "outputId": "7c8c8f52-cbf5-4c1d-e863-1a4c1fc28ed5"
      },
      "source": [
        "from math import floor\n",
        "\n",
        "def day(dd,mm,aaaa):\n",
        "      q=dd\n",
        "      Dict ={0:\"Sábado\", 1:\"Domingo\" , 2:\"Lunes\" , 3:\"Martes\" ,4:\"Miércoles\" ,\n",
        "             5:\"Jueves\", 6:\"Viernes\"}\n",
        "      K = aaaa % 100; \n",
        "      J = floor(aaaa/100)\n",
        "      h = (q+floor((13*(mm+1))/5)+K+floor(K/4)+floor(J/4)-2*J)%7\n",
        "      for key,val in Dict.items():\n",
        "          if key == h:\n",
        "              print(val)\n",
        "\n",
        "day(18,13,2009)"
      ],
      "execution_count": null,
      "outputs": [
        {
          "output_type": "stream",
          "text": [
            "Lunes\n"
          ],
          "name": "stdout"
        }
      ]
    },
    {
      "cell_type": "code",
      "metadata": {
        "colab": {
          "base_uri": "https://localhost:8080/"
        },
        "id": "AE_AYZBiAtCG",
        "outputId": "7be7b005-9f80-473c-dead-3179361443a1"
      },
      "source": [
        "from math import floor\n",
        "\n",
        "def day(dd,mm,aaaa):\n",
        "      q=dd\n",
        "      Dict ={0:\"Sábado\", 1:\"Domingo\" , 2:\"Lunes\" , 3:\"Martes\" ,4:\"Miércoles\" ,\n",
        "             5:\"Jueves\", 6:\"Viernes\"}\n",
        "      K = aaaa % 100; \n",
        "      J = floor(aaaa/100)\n",
        "      h = (q+floor((13*(mm+1))/5)+K+floor(K/4)+floor(J/4)-2*J)%7\n",
        "      for key,val in Dict.items():\n",
        "          if key == h:\n",
        "              print(val)\n",
        "\n",
        "day(1,3,2001)"
      ],
      "execution_count": null,
      "outputs": [
        {
          "output_type": "stream",
          "text": [
            "Jueves\n"
          ],
          "name": "stdout"
        }
      ]
    },
    {
      "cell_type": "markdown",
      "metadata": {
        "id": "G0w3US_MoLyK"
      },
      "source": [
        "**Conclusiones** \n",
        "\n",
        "\n",
        "*   Para abolir el modulo negativo $-2J$, presentado en la *congruencia de Zeller*, este puede ser cambiado por $+5J$ ya que $-2 \\hspace{1mm} mod \\hspace{1mm} 7$ es equivalente a decir $5 \\hspace{1mm} mod \\hspace{1mm}7$\n",
        "* La implementación del algoritmo de Zeller presenta una alta precisión en definir el dia especifico de una fecha elegida de forma arbitraria, lo cual puede resultar util en determinadas aplicaciones. Sin embargo la parametrización de los meses y las condiciones en que estos se deben ingresar para validar la precisión mencionada del algoritmo, puede resultar confusa en algunos casos.   \n",
        "\n",
        "**Referencias**\n",
        "* Paul E. Black, \"Zeller's congruence\", in *Dictionary of Algorithms and Data Structures* [online], Paul E. Black, ed. 11 February 2019. (accessed TODAY) Available from: https://www.nist.gov/dads/HTML/zellersCongruence.html\n",
        "* Kerly Esquivel, M. L. (2013). Calendario Gregoriano. En *El maravilloso mundo de las congruencias modulares y sus aplicaciones* (págs. 10,11). San José.\n",
        "* \"Kalender-Formeln\" von Chr. Zeller, Acta Mathematica, vol.9 (1886-7), pp.131-6. (Nov 1886). Resumido por Sebastian Koppehel, de la Universidad de Hamburgo. Disponible en:\n",
        "https://people.cs.nctu.edu.tw/~tsaiwn/sisc/runtime_error_200_div_by_0/www.merlyn.demon.co.uk/zel-1886.htm\n",
        "* Análisis matemático del calendario gregoriano. disponible en:  https://codigodelcielo.wordpress.com/2014/10/10/analisis-matematico-del-calendario-gregoriano/ \n",
        "\n",
        "\n",
        "\n",
        "\n",
        "\n",
        "\n"
      ]
    },
    {
      "cell_type": "markdown",
      "metadata": {
        "id": "cqTUZuR0atCA"
      },
      "source": [
        ""
      ]
    }
  ]
}